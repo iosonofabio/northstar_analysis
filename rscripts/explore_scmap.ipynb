{
 "cells": [
  {
   "cell_type": "code",
   "execution_count": 91,
   "metadata": {},
   "outputs": [],
   "source": [
    "# Author: Fabio Zanini\n",
    "# Date: 2020-05-27\n",
    "# Description: learn how to use scmap\n",
    "# Ah, namespace pollution starts immediately\n",
    "library(SingleCellExperiment)\n",
    "library(scmap)"
   ]
  },
  {
   "cell_type": "markdown",
   "metadata": {},
   "source": [
    "## Load atlas"
   ]
  },
  {
   "cell_type": "code",
   "execution_count": 92,
   "metadata": {},
   "outputs": [],
   "source": [
    "# NOTE: sce has cells as columns\n",
    "fn_atlas <- '../data/for_scmap/TBS_kidney_atlas_subsample_20_counts.tsv'\n",
    "cols <- c('character', rep('double', 19860))\n",
    "counts_atlas <- t(read.table(file = fn_atlas, sep = '\\t', header = TRUE,  colClasses = cols,  row.names = \"index\"))\n",
    "\n",
    "fn_meta_atlas = '../data/for_scmap/TBS_kidney_atlas_subsample_20_metadata.tsv'\n",
    "meta_atlas <- read.table(file = fn_meta_atlas, sep = '\\t', header = TRUE, row.names='index')\n",
    "\n",
    "atlas <- SingleCellExperiment(assays = list(normcounts = as.matrix(counts_atlas)), colData = meta_atlas)"
   ]
  },
  {
   "cell_type": "code",
   "execution_count": 93,
   "metadata": {},
   "outputs": [
    {
     "data": {
      "text/plain": [
       "class: SingleCellExperiment \n",
       "dim: 19860 360 \n",
       "metadata(0):\n",
       "assays(1): normcounts\n",
       "rownames(19860): Xkr4 Rp1 ... Sly Erdr1\n",
       "rowData names(0):\n",
       "colnames(360): AAGGTTCAGCGTGAAC-1-78-0-0 ACGCAGCTCAGTTGAC-1-78-0-0 ...\n",
       "  10X_P4_6_GTTACAGTCCCTCTTT-1 10X_P7_5_GGACAAGAGTGGAGAA-1\n",
       "colData names(1): CellType\n",
       "reducedDimNames(0):\n",
       "altExpNames(0):"
      ]
     },
     "metadata": {},
     "output_type": "display_data"
    }
   ],
   "source": [
    "atlas"
   ]
  },
  {
   "cell_type": "markdown",
   "metadata": {},
   "source": [
    "## Load new dataset"
   ]
  },
  {
   "cell_type": "code",
   "execution_count": 149,
   "metadata": {
    "scrolled": true
   },
   "outputs": [],
   "source": [
    "repn <- '5'\n",
    "\n",
    "# NOTE: sce has cells as columns\n",
    "fn_newdata <- paste('../data/for_scmap/TBS_kidney_newdata_subsample_100_counts_rep_', repn, '.tsv', sep=\"\")\n",
    "cols <- c('character', rep('double', 19860))\n",
    "counts_newdata <- t(read.table(file = fn_newdata, sep = '\\t', header = TRUE, colClasses = cols,  row.names = \"index\"))\n",
    "\n",
    "\n",
    "fn_meta_newdata = paste('../data/for_scmap/TBS_kidney_newdata_subsample_100_metadata_rep_', repn, '.tsv', sep=\"\")\n",
    "meta_newdata <- read.table(file = fn_meta_newdata, sep = '\\t', header = TRUE, row.names = 'index')\n",
    "\n",
    "newdata <- SingleCellExperiment(assays = list(normcounts = as.matrix(counts_newdata)), colData = meta_newdata)"
   ]
  },
  {
   "cell_type": "markdown",
   "metadata": {},
   "source": [
    "## Prepare the atlas with scmap"
   ]
  },
  {
   "cell_type": "code",
   "execution_count": 150,
   "metadata": {},
   "outputs": [],
   "source": [
    "# this is needed to calculate dropout rate for feature selection\n",
    "# important: normcounts have the same zeros as raw counts (fpkm)\n",
    "counts(atlas) <- normcounts(atlas)\n",
    "logcounts(atlas) <- log2(normcounts(atlas) + 1)\n",
    "counts(newdata) <- normcounts(newdata)\n",
    "logcounts(newdata) <- log2(normcounts(newdata) + 1)"
   ]
  },
  {
   "cell_type": "code",
   "execution_count": 151,
   "metadata": {},
   "outputs": [],
   "source": [
    "# use gene names as feature symbols\n",
    "rowData(atlas)$feature_symbol <- rownames(atlas)\n",
    "rowData(newdata)$feature_symbol <- rownames(newdata)\n",
    "# Skip this, the function is undefined and 10X has no ERCC anyways\n",
    "#isSpike(sce, 'ERCC') <- grepl('^ERCC-', rownames(sce))"
   ]
  },
  {
   "cell_type": "code",
   "execution_count": 152,
   "metadata": {},
   "outputs": [],
   "source": [
    "# remove features with duplicated names\n",
    "atlas <- atlas[!duplicated(rownames(atlas)), ]\n",
    "atlas <- selectFeatures(atlas)\n",
    "newdata <- newdata[!duplicated(rownames(newdata)), ]\n",
    "newdata <- selectFeatures(newdata)"
   ]
  },
  {
   "cell_type": "code",
   "execution_count": 153,
   "metadata": {},
   "outputs": [
    {
     "name": "stderr",
     "output_type": "stream",
     "text": [
      "Parameter M was not provided, will use M = n_features / 10 (if n_features <= 1000), where n_features is the number of selected features, and M = 100 otherwise.\n",
      "\n",
      "Parameter k was not provided, will use k = sqrt(number_of_cells)\n",
      "\n",
      "Parameter M was not provided, will use M = n_features / 10 (if n_features <= 1000), where n_features is the number of selected features, and M = 100 otherwise.\n",
      "\n",
      "Parameter k was not provided, will use k = sqrt(number_of_cells)\n",
      "\n"
     ]
    }
   ],
   "source": [
    "atlas <- indexCell(atlas)\n",
    "newdata <- indexCell(newdata)"
   ]
  },
  {
   "cell_type": "code",
   "execution_count": 154,
   "metadata": {},
   "outputs": [
    {
     "data": {
      "text/html": [
       "<style>\n",
       ".dl-inline {width: auto; margin:0; padding: 0}\n",
       ".dl-inline>dt, .dl-inline>dd {float: none; width: auto; display: inline-block}\n",
       ".dl-inline>dt::after {content: \":\\0020\"; padding-right: .5ex}\n",
       ".dl-inline>dt:not(:first-of-type) {padding-left: .5ex}\n",
       "</style><dl class=dl-inline><dt>B cell</dt><dd>20</dd><dt>brush cell</dt><dd>20</dd><dt>epithelial cell of proximal tubule</dt><dd>20</dd><dt>fenestrated cell</dt><dd>20</dd><dt>fibroblast</dt><dd>20</dd><dt>kidney capillary endothelial cell</dt><dd>20</dd><dt>kidney collecting duct principal cell</dt><dd>20</dd><dt>kidney cortex artery cell</dt><dd>20</dd><dt>kidney distal convoluted tubule epithelial cell</dt><dd>20</dd><dt>kidney loop of Henle thick ascending limb epithelial cell</dt><dd>20</dd><dt>kidney mesangial cell</dt><dd>20</dd><dt>kidney proximal convoluted tubule epithelial cell</dt><dd>20</dd><dt>lymphocyte</dt><dd>20</dd><dt>macrophage</dt><dd>20</dd><dt>NK cell</dt><dd>20</dd><dt>plasma cell</dt><dd>20</dd><dt>podocyte</dt><dd>20</dd><dt>T cell</dt><dd>20</dd></dl>\n"
      ],
      "text/latex": [
       "\\begin{description*}\n",
       "\\item[B cell] 20\n",
       "\\item[brush cell] 20\n",
       "\\item[epithelial cell of proximal tubule] 20\n",
       "\\item[fenestrated cell] 20\n",
       "\\item[fibroblast] 20\n",
       "\\item[kidney capillary endothelial cell] 20\n",
       "\\item[kidney collecting duct principal cell] 20\n",
       "\\item[kidney cortex artery cell] 20\n",
       "\\item[kidney distal convoluted tubule epithelial cell] 20\n",
       "\\item[kidney loop of Henle thick ascending limb epithelial cell] 20\n",
       "\\item[kidney mesangial cell] 20\n",
       "\\item[kidney proximal convoluted tubule epithelial cell] 20\n",
       "\\item[lymphocyte] 20\n",
       "\\item[macrophage] 20\n",
       "\\item[NK cell] 20\n",
       "\\item[plasma cell] 20\n",
       "\\item[podocyte] 20\n",
       "\\item[T cell] 20\n",
       "\\end{description*}\n"
      ],
      "text/markdown": [
       "B cell\n",
       ":   20brush cell\n",
       ":   20epithelial cell of proximal tubule\n",
       ":   20fenestrated cell\n",
       ":   20fibroblast\n",
       ":   20kidney capillary endothelial cell\n",
       ":   20kidney collecting duct principal cell\n",
       ":   20kidney cortex artery cell\n",
       ":   20kidney distal convoluted tubule epithelial cell\n",
       ":   20kidney loop of Henle thick ascending limb epithelial cell\n",
       ":   20kidney mesangial cell\n",
       ":   20kidney proximal convoluted tubule epithelial cell\n",
       ":   20lymphocyte\n",
       ":   20macrophage\n",
       ":   20NK cell\n",
       ":   20plasma cell\n",
       ":   20podocyte\n",
       ":   20T cell\n",
       ":   20\n",
       "\n"
      ],
      "text/plain": [
       "                                                   B cell \n",
       "                                                       20 \n",
       "                                               brush cell \n",
       "                                                       20 \n",
       "                       epithelial cell of proximal tubule \n",
       "                                                       20 \n",
       "                                         fenestrated cell \n",
       "                                                       20 \n",
       "                                               fibroblast \n",
       "                                                       20 \n",
       "                        kidney capillary endothelial cell \n",
       "                                                       20 \n",
       "                    kidney collecting duct principal cell \n",
       "                                                       20 \n",
       "                                kidney cortex artery cell \n",
       "                                                       20 \n",
       "          kidney distal convoluted tubule epithelial cell \n",
       "                                                       20 \n",
       "kidney loop of Henle thick ascending limb epithelial cell \n",
       "                                                       20 \n",
       "                                    kidney mesangial cell \n",
       "                                                       20 \n",
       "        kidney proximal convoluted tubule epithelial cell \n",
       "                                                       20 \n",
       "                                               lymphocyte \n",
       "                                                       20 \n",
       "                                               macrophage \n",
       "                                                       20 \n",
       "                                                  NK cell \n",
       "                                                       20 \n",
       "                                              plasma cell \n",
       "                                                       20 \n",
       "                                                 podocyte \n",
       "                                                       20 \n",
       "                                                   T cell \n",
       "                                                       20 "
      ]
     },
     "metadata": {},
     "output_type": "display_data"
    }
   ],
   "source": [
    "summary(factor(colData(sce)$CellType))"
   ]
  },
  {
   "cell_type": "code",
   "execution_count": 155,
   "metadata": {},
   "outputs": [
    {
     "data": {
      "text/html": [
       "<table>\n",
       "<caption>A matrix: 5 × 5 of type int</caption>\n",
       "<thead>\n",
       "\t<tr><th scope=col>AAGGTTCAGCGTGAAC-1-78-0-0</th><th scope=col>ACGCAGCTCAGTTGAC-1-78-0-0</th><th scope=col>AGAGCTTCACAAGACG-1-78-0-0</th><th scope=col>CAAGATCCAACAACCT-1-78-0-0</th><th scope=col>CGCGTTTCAGCGTCCA-1-78-0-0</th></tr>\n",
       "</thead>\n",
       "<tbody>\n",
       "\t<tr><td>13</td><td>13</td><td>11</td><td>11</td><td>11</td></tr>\n",
       "\t<tr><td>14</td><td> 4</td><td> 1</td><td>14</td><td>14</td></tr>\n",
       "\t<tr><td>18</td><td>12</td><td> 8</td><td> 2</td><td>18</td></tr>\n",
       "\t<tr><td> 2</td><td> 7</td><td>11</td><td> 2</td><td> 2</td></tr>\n",
       "\t<tr><td> 5</td><td>16</td><td>11</td><td> 9</td><td> 6</td></tr>\n",
       "</tbody>\n",
       "</table>\n"
      ],
      "text/latex": [
       "A matrix: 5 × 5 of type int\n",
       "\\begin{tabular}{lllll}\n",
       " AAGGTTCAGCGTGAAC-1-78-0-0 & ACGCAGCTCAGTTGAC-1-78-0-0 & AGAGCTTCACAAGACG-1-78-0-0 & CAAGATCCAACAACCT-1-78-0-0 & CGCGTTTCAGCGTCCA-1-78-0-0\\\\\n",
       "\\hline\n",
       "\t 13 & 13 & 11 & 11 & 11\\\\\n",
       "\t 14 &  4 &  1 & 14 & 14\\\\\n",
       "\t 18 & 12 &  8 &  2 & 18\\\\\n",
       "\t  2 &  7 & 11 &  2 &  2\\\\\n",
       "\t  5 & 16 & 11 &  9 &  6\\\\\n",
       "\\end{tabular}\n"
      ],
      "text/markdown": [
       "\n",
       "A matrix: 5 × 5 of type int\n",
       "\n",
       "| AAGGTTCAGCGTGAAC-1-78-0-0 | ACGCAGCTCAGTTGAC-1-78-0-0 | AGAGCTTCACAAGACG-1-78-0-0 | CAAGATCCAACAACCT-1-78-0-0 | CGCGTTTCAGCGTCCA-1-78-0-0 |\n",
       "|---|---|---|---|---|\n",
       "| 13 | 13 | 11 | 11 | 11 |\n",
       "| 14 |  4 |  1 | 14 | 14 |\n",
       "| 18 | 12 |  8 |  2 | 18 |\n",
       "|  2 |  7 | 11 |  2 |  2 |\n",
       "|  5 | 16 | 11 |  9 |  6 |\n",
       "\n"
      ],
      "text/plain": [
       "     AAGGTTCAGCGTGAAC-1-78-0-0 ACGCAGCTCAGTTGAC-1-78-0-0\n",
       "[1,] 13                        13                       \n",
       "[2,] 14                         4                       \n",
       "[3,] 18                        12                       \n",
       "[4,]  2                         7                       \n",
       "[5,]  5                        16                       \n",
       "     AGAGCTTCACAAGACG-1-78-0-0 CAAGATCCAACAACCT-1-78-0-0\n",
       "[1,] 11                        11                       \n",
       "[2,]  1                        14                       \n",
       "[3,]  8                         2                       \n",
       "[4,] 11                         2                       \n",
       "[5,] 11                         9                       \n",
       "     CGCGTTTCAGCGTCCA-1-78-0-0\n",
       "[1,] 11                       \n",
       "[2,] 14                       \n",
       "[3,] 18                       \n",
       "[4,]  2                       \n",
       "[5,]  6                       "
      ]
     },
     "metadata": {},
     "output_type": "display_data"
    }
   ],
   "source": [
    "metadata(atlas)$scmap_cell_index$subclusters[1:5,1:5]"
   ]
  },
  {
   "cell_type": "code",
   "execution_count": 156,
   "metadata": {},
   "outputs": [],
   "source": [
    "##############################################\n",
    "# run scmapCell to map the cells back to atlas\n",
    "##############################################\n",
    "res <- scmapCell(\n",
    "  projection = newdata,\n",
    "  index_list = list(\n",
    "    atlas = metadata(atlas)$scmap_cell_index\n",
    "  ),\n",
    "  w = 9\n",
    ")\n",
    "\n",
    "#scmapCell_results <- scmapCell(sce, list(metadata(sce)$scmap_cell_index))\n",
    "##############################################"
   ]
  },
  {
   "cell_type": "code",
   "execution_count": 157,
   "metadata": {},
   "outputs": [],
   "source": [
    "neighbors <- res[[1]]$cells"
   ]
  },
  {
   "cell_type": "code",
   "execution_count": 158,
   "metadata": {},
   "outputs": [],
   "source": [
    "# Exctract TSV and do the rest in Python...\n",
    "fn_res <- paste('../data/for_scmap/TBS_kidney_newdata_subsample_100_metadata_rep_', repn, '_output.tsv', sep=\"\")\n",
    "write.table(neighbors, file = fn_res, quote=FALSE, sep='\\t')"
   ]
  },
  {
   "cell_type": "code",
   "execution_count": null,
   "metadata": {},
   "outputs": [],
   "source": []
  }
 ],
 "metadata": {
  "kernelspec": {
   "display_name": "R",
   "language": "R",
   "name": "ir"
  },
  "language_info": {
   "codemirror_mode": "r",
   "file_extension": ".r",
   "mimetype": "text/x-r-source",
   "name": "R",
   "pygments_lexer": "r",
   "version": "4.0.0"
  }
 },
 "nbformat": 4,
 "nbformat_minor": 2
}
