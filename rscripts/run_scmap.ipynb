{
 "cells": [
  {
   "cell_type": "code",
   "execution_count": 5,
   "metadata": {},
   "outputs": [
    {
     "name": "stderr",
     "output_type": "stream",
     "text": [
      "Parameter M was not provided, will use M = n_features / 10 (if n_features <= 1000), where n_features is the number of selected features, and M = 100 otherwise.\n",
      "\n",
      "Parameter k was not provided, will use k = sqrt(number_of_cells)\n",
      "\n"
     ]
    },
    {
     "name": "stdout",
     "output_type": "stream",
     "text": [
      "[1] \"Runtime atlas:\"\n",
      "Time difference of 0.3800428 secs\n"
     ]
    }
   ],
   "source": [
    "# Author: Fabio Zanini\n",
    "# Date: 2020-05-27\n",
    "# Description: learn how to use scmap\n",
    "# Ah, namespace pollution starts immediately\n",
    "library(SingleCellExperiment)\n",
    "library(scmap)\n",
    "\n",
    "# NOTE: sce has cells as columns\n",
    "fn_atlas <- '../data/for_scmap/TBS_kidney_atlas_subsample_20_counts.tsv'\n",
    "cols <- c('character', rep('double', 19860))\n",
    "counts_atlas <- t(read.table(file = fn_atlas, sep = '\\t', header = TRUE,  colClasses = cols,  row.names = \"index\"))\n",
    "\n",
    "fn_meta_atlas = '../data/for_scmap/TBS_kidney_atlas_subsample_20_metadata.tsv'\n",
    "meta_atlas <- read.table(file = fn_meta_atlas, sep = '\\t', header = TRUE, row.names='index')\n",
    "\n",
    "atlas <- SingleCellExperiment(assays = list(normcounts = as.matrix(counts_atlas)), colData = meta_atlas)\n",
    "\n",
    "start_time <- Sys.time()\n",
    "\n",
    "# this is needed to calculate dropout rate for feature selection\n",
    "# important: normcounts have the same zeros as raw counts (fpkm)\n",
    "counts(atlas) <- normcounts(atlas)\n",
    "logcounts(atlas) <- log2(normcounts(atlas) + 1)\n",
    "\n",
    "# use gene names as feature symbols\n",
    "rowData(atlas)$feature_symbol <- rownames(atlas)\n",
    "\n",
    "# remove features with duplicated names\n",
    "atlas <- atlas[!duplicated(rownames(atlas)), ]\n",
    "atlas <- selectFeatures(atlas)\n",
    "\n",
    "atlas <- indexCell(atlas)\n",
    "\n",
    "end_time <- Sys.time()\n",
    "print('Runtime atlas:')\n",
    "print(end_time - start_time)\n",
    "\n",
    "repns <- c('1', '2', '3', '4', '5')\n",
    "\n",
    "for (repn in repns) {\n",
    "\n",
    "# NOTE: sce has cells as columns\n",
    "fn_newdata <- paste('../data/for_scmap/TBS_kidney_newdata_subsample_100_counts_rep_', repn, '.tsv', sep=\"\")\n",
    "cols <- c('character', rep('double', 19860))\n",
    "counts_newdata <- t(read.table(file = fn_newdata, sep = '\\t', header = TRUE, colClasses = cols,  row.names = \"index\"))\n",
    "\n",
    "\n",
    "fn_meta_newdata = paste('../data/for_scmap/TBS_kidney_newdata_subsample_100_metadata_rep_', repn, '.tsv', sep=\"\")\n",
    "meta_newdata <- read.table(file = fn_meta_newdata, sep = '\\t', header = TRUE, row.names = 'index')\n",
    "\n",
    "newdata <- SingleCellExperiment(assays = list(normcounts = as.matrix(counts_newdata)), colData = meta_newdata)\n",
    "\n",
    "start_time <- Sys.time()\n",
    "    \n",
    "# this is needed to calculate dropout rate for feature selection\n",
    "# important: normcounts have the same zeros as raw counts (fpkm)\n",
    "counts(newdata) <- normcounts(newdata)\n",
    "logcounts(newdata) <- log2(normcounts(newdata) + 1)\n",
    "\n",
    "# use gene names as feature symbols\n",
    "rowData(newdata)$feature_symbol <- rownames(newdata)\n",
    "\n",
    "# remove features with duplicated names\n",
    "newdata <- newdata[!duplicated(rownames(newdata)), ]\n",
    "newdata <- selectFeatures(newdata)\n",
    "\n",
    "newdata <- indexCell(newdata)\n",
    "\n",
    "##############################################\n",
    "# run scmapCell to map the cells back to atlas\n",
    "##############################################\n",
    "res <- scmapCell(\n",
    "  projection = newdata,\n",
    "  index_list = list(\n",
    "    atlas = metadata(atlas)$scmap_cell_index\n",
    "  ),\n",
    "  w = 9\n",
    ")\n",
    "##############################################\n",
    "    \n",
    "end_time <- Sys.time()\n",
    "    \n",
    "print('Runtime for newdata:')\n",
    "print(repn)\n",
    "print(end_time - start_time)\n",
    "\n",
    "neighbors <- res[[1]]$cells\n",
    "\n",
    "# Exctract TSV and do the rest in Python...\n",
    "fn_res <- paste('../data/for_scmap/TBS_kidney_newdata_subsample_100_metadata_rep_', repn, '_output.tsv', sep=\"\")\n",
    "write.table(neighbors, file = fn_res, quote=FALSE, sep='\\t')\n",
    "    \n",
    "}"
   ]
  },
  {
   "cell_type": "code",
   "execution_count": 16,
   "metadata": {},
   "outputs": [
    {
     "name": "stdout",
     "output_type": "stream",
     "text": [
      "[1] \"17\"\n"
     ]
    },
    {
     "name": "stderr",
     "output_type": "stream",
     "text": [
      "Parameter M was not provided, will use M = n_features / 10 (if n_features <= 1000), where n_features is the number of selected features, and M = 100 otherwise.\n",
      "\n",
      "Parameter k was not provided, will use k = sqrt(number_of_cells)\n",
      "\n"
     ]
    },
    {
     "name": "stdout",
     "output_type": "stream",
     "text": [
      "[1] \"Runtime atlas:\"\n",
      "Time difference of 0.4147904 secs\n"
     ]
    },
    {
     "name": "stderr",
     "output_type": "stream",
     "text": [
      "Parameter M was not provided, will use M = n_features / 10 (if n_features <= 1000), where n_features is the number of selected features, and M = 100 otherwise.\n",
      "\n",
      "Parameter k was not provided, will use k = sqrt(number_of_cells)\n",
      "\n"
     ]
    },
    {
     "name": "stdout",
     "output_type": "stream",
     "text": [
      "[1] \"Runtime for newdata:\"\n",
      "[1] \"1\"\n",
      "Time difference of 3.331619 secs\n"
     ]
    },
    {
     "name": "stderr",
     "output_type": "stream",
     "text": [
      "Parameter M was not provided, will use M = n_features / 10 (if n_features <= 1000), where n_features is the number of selected features, and M = 100 otherwise.\n",
      "\n",
      "Parameter k was not provided, will use k = sqrt(number_of_cells)\n",
      "\n"
     ]
    },
    {
     "name": "stdout",
     "output_type": "stream",
     "text": [
      "[1] \"Runtime for newdata:\"\n",
      "[1] \"2\"\n",
      "Time difference of 3.574516 secs\n"
     ]
    },
    {
     "name": "stderr",
     "output_type": "stream",
     "text": [
      "Parameter M was not provided, will use M = n_features / 10 (if n_features <= 1000), where n_features is the number of selected features, and M = 100 otherwise.\n",
      "\n",
      "Parameter k was not provided, will use k = sqrt(number_of_cells)\n",
      "\n"
     ]
    },
    {
     "name": "stdout",
     "output_type": "stream",
     "text": [
      "[1] \"Runtime for newdata:\"\n",
      "[1] \"3\"\n",
      "Time difference of 3.318047 secs\n"
     ]
    },
    {
     "name": "stderr",
     "output_type": "stream",
     "text": [
      "Parameter M was not provided, will use M = n_features / 10 (if n_features <= 1000), where n_features is the number of selected features, and M = 100 otherwise.\n",
      "\n",
      "Parameter k was not provided, will use k = sqrt(number_of_cells)\n",
      "\n"
     ]
    },
    {
     "name": "stdout",
     "output_type": "stream",
     "text": [
      "[1] \"Runtime for newdata:\"\n",
      "[1] \"4\"\n",
      "Time difference of 2.877976 secs\n"
     ]
    },
    {
     "name": "stderr",
     "output_type": "stream",
     "text": [
      "Parameter M was not provided, will use M = n_features / 10 (if n_features <= 1000), where n_features is the number of selected features, and M = 100 otherwise.\n",
      "\n",
      "Parameter k was not provided, will use k = sqrt(number_of_cells)\n",
      "\n"
     ]
    },
    {
     "name": "stdout",
     "output_type": "stream",
     "text": [
      "[1] \"Runtime for newdata:\"\n",
      "[1] \"5\"\n",
      "Time difference of 3.241976 secs\n",
      "[1] \"16\"\n"
     ]
    },
    {
     "name": "stderr",
     "output_type": "stream",
     "text": [
      "Parameter M was not provided, will use M = n_features / 10 (if n_features <= 1000), where n_features is the number of selected features, and M = 100 otherwise.\n",
      "\n",
      "Parameter k was not provided, will use k = sqrt(number_of_cells)\n",
      "\n"
     ]
    },
    {
     "name": "stdout",
     "output_type": "stream",
     "text": [
      "[1] \"Runtime atlas:\"\n",
      "Time difference of 0.3446839 secs\n"
     ]
    },
    {
     "name": "stderr",
     "output_type": "stream",
     "text": [
      "Parameter M was not provided, will use M = n_features / 10 (if n_features <= 1000), where n_features is the number of selected features, and M = 100 otherwise.\n",
      "\n",
      "Parameter k was not provided, will use k = sqrt(number_of_cells)\n",
      "\n"
     ]
    },
    {
     "name": "stdout",
     "output_type": "stream",
     "text": [
      "[1] \"Runtime for newdata:\"\n",
      "[1] \"1\"\n",
      "Time difference of 3.14454 secs\n"
     ]
    },
    {
     "name": "stderr",
     "output_type": "stream",
     "text": [
      "Parameter M was not provided, will use M = n_features / 10 (if n_features <= 1000), where n_features is the number of selected features, and M = 100 otherwise.\n",
      "\n",
      "Parameter k was not provided, will use k = sqrt(number_of_cells)\n",
      "\n"
     ]
    },
    {
     "name": "stdout",
     "output_type": "stream",
     "text": [
      "[1] \"Runtime for newdata:\"\n",
      "[1] \"2\"\n",
      "Time difference of 2.76651 secs\n"
     ]
    },
    {
     "name": "stderr",
     "output_type": "stream",
     "text": [
      "Parameter M was not provided, will use M = n_features / 10 (if n_features <= 1000), where n_features is the number of selected features, and M = 100 otherwise.\n",
      "\n",
      "Parameter k was not provided, will use k = sqrt(number_of_cells)\n",
      "\n"
     ]
    },
    {
     "name": "stdout",
     "output_type": "stream",
     "text": [
      "[1] \"Runtime for newdata:\"\n",
      "[1] \"3\"\n",
      "Time difference of 3.233341 secs\n"
     ]
    },
    {
     "name": "stderr",
     "output_type": "stream",
     "text": [
      "Parameter M was not provided, will use M = n_features / 10 (if n_features <= 1000), where n_features is the number of selected features, and M = 100 otherwise.\n",
      "\n",
      "Parameter k was not provided, will use k = sqrt(number_of_cells)\n",
      "\n"
     ]
    },
    {
     "name": "stdout",
     "output_type": "stream",
     "text": [
      "[1] \"Runtime for newdata:\"\n",
      "[1] \"4\"\n",
      "Time difference of 3.0351 secs\n"
     ]
    },
    {
     "name": "stderr",
     "output_type": "stream",
     "text": [
      "Parameter M was not provided, will use M = n_features / 10 (if n_features <= 1000), where n_features is the number of selected features, and M = 100 otherwise.\n",
      "\n",
      "Parameter k was not provided, will use k = sqrt(number_of_cells)\n",
      "\n"
     ]
    },
    {
     "name": "stdout",
     "output_type": "stream",
     "text": [
      "[1] \"Runtime for newdata:\"\n",
      "[1] \"5\"\n",
      "Time difference of 3.155047 secs\n",
      "[1] \"15\"\n"
     ]
    },
    {
     "name": "stderr",
     "output_type": "stream",
     "text": [
      "Parameter M was not provided, will use M = n_features / 10 (if n_features <= 1000), where n_features is the number of selected features, and M = 100 otherwise.\n",
      "\n",
      "Parameter k was not provided, will use k = sqrt(number_of_cells)\n",
      "\n"
     ]
    },
    {
     "name": "stdout",
     "output_type": "stream",
     "text": [
      "[1] \"Runtime atlas:\"\n",
      "Time difference of 0.3229709 secs\n"
     ]
    },
    {
     "name": "stderr",
     "output_type": "stream",
     "text": [
      "Parameter M was not provided, will use M = n_features / 10 (if n_features <= 1000), where n_features is the number of selected features, and M = 100 otherwise.\n",
      "\n",
      "Parameter k was not provided, will use k = sqrt(number_of_cells)\n",
      "\n"
     ]
    },
    {
     "name": "stdout",
     "output_type": "stream",
     "text": [
      "[1] \"Runtime for newdata:\"\n",
      "[1] \"1\"\n",
      "Time difference of 3.38759 secs\n"
     ]
    },
    {
     "name": "stderr",
     "output_type": "stream",
     "text": [
      "Parameter M was not provided, will use M = n_features / 10 (if n_features <= 1000), where n_features is the number of selected features, and M = 100 otherwise.\n",
      "\n",
      "Parameter k was not provided, will use k = sqrt(number_of_cells)\n",
      "\n"
     ]
    },
    {
     "name": "stdout",
     "output_type": "stream",
     "text": [
      "[1] \"Runtime for newdata:\"\n",
      "[1] \"2\"\n",
      "Time difference of 3.302768 secs\n"
     ]
    },
    {
     "name": "stderr",
     "output_type": "stream",
     "text": [
      "Parameter M was not provided, will use M = n_features / 10 (if n_features <= 1000), where n_features is the number of selected features, and M = 100 otherwise.\n",
      "\n",
      "Parameter k was not provided, will use k = sqrt(number_of_cells)\n",
      "\n"
     ]
    },
    {
     "name": "stdout",
     "output_type": "stream",
     "text": [
      "[1] \"Runtime for newdata:\"\n",
      "[1] \"3\"\n",
      "Time difference of 2.818339 secs\n"
     ]
    },
    {
     "name": "stderr",
     "output_type": "stream",
     "text": [
      "Parameter M was not provided, will use M = n_features / 10 (if n_features <= 1000), where n_features is the number of selected features, and M = 100 otherwise.\n",
      "\n",
      "Parameter k was not provided, will use k = sqrt(number_of_cells)\n",
      "\n"
     ]
    },
    {
     "name": "stdout",
     "output_type": "stream",
     "text": [
      "[1] \"Runtime for newdata:\"\n",
      "[1] \"4\"\n",
      "Time difference of 3.295036 secs\n"
     ]
    },
    {
     "name": "stderr",
     "output_type": "stream",
     "text": [
      "Parameter M was not provided, will use M = n_features / 10 (if n_features <= 1000), where n_features is the number of selected features, and M = 100 otherwise.\n",
      "\n",
      "Parameter k was not provided, will use k = sqrt(number_of_cells)\n",
      "\n"
     ]
    },
    {
     "name": "stdout",
     "output_type": "stream",
     "text": [
      "[1] \"Runtime for newdata:\"\n",
      "[1] \"5\"\n",
      "Time difference of 3.26331 secs\n",
      "[1] \"14\"\n"
     ]
    },
    {
     "name": "stderr",
     "output_type": "stream",
     "text": [
      "Parameter M was not provided, will use M = n_features / 10 (if n_features <= 1000), where n_features is the number of selected features, and M = 100 otherwise.\n",
      "\n",
      "Parameter k was not provided, will use k = sqrt(number_of_cells)\n",
      "\n"
     ]
    },
    {
     "name": "stdout",
     "output_type": "stream",
     "text": [
      "[1] \"Runtime atlas:\"\n",
      "Time difference of 0.3133569 secs\n"
     ]
    },
    {
     "name": "stderr",
     "output_type": "stream",
     "text": [
      "Parameter M was not provided, will use M = n_features / 10 (if n_features <= 1000), where n_features is the number of selected features, and M = 100 otherwise.\n",
      "\n",
      "Parameter k was not provided, will use k = sqrt(number_of_cells)\n",
      "\n"
     ]
    },
    {
     "name": "stdout",
     "output_type": "stream",
     "text": [
      "[1] \"Runtime for newdata:\"\n",
      "[1] \"1\"\n",
      "Time difference of 3.123514 secs\n"
     ]
    },
    {
     "name": "stderr",
     "output_type": "stream",
     "text": [
      "Parameter M was not provided, will use M = n_features / 10 (if n_features <= 1000), where n_features is the number of selected features, and M = 100 otherwise.\n",
      "\n",
      "Parameter k was not provided, will use k = sqrt(number_of_cells)\n",
      "\n"
     ]
    },
    {
     "name": "stdout",
     "output_type": "stream",
     "text": [
      "[1] \"Runtime for newdata:\"\n",
      "[1] \"2\"\n",
      "Time difference of 2.901536 secs\n"
     ]
    },
    {
     "name": "stderr",
     "output_type": "stream",
     "text": [
      "Parameter M was not provided, will use M = n_features / 10 (if n_features <= 1000), where n_features is the number of selected features, and M = 100 otherwise.\n",
      "\n",
      "Parameter k was not provided, will use k = sqrt(number_of_cells)\n",
      "\n"
     ]
    },
    {
     "name": "stdout",
     "output_type": "stream",
     "text": [
      "[1] \"Runtime for newdata:\"\n",
      "[1] \"3\"\n",
      "Time difference of 3.275896 secs\n"
     ]
    },
    {
     "name": "stderr",
     "output_type": "stream",
     "text": [
      "Parameter M was not provided, will use M = n_features / 10 (if n_features <= 1000), where n_features is the number of selected features, and M = 100 otherwise.\n",
      "\n",
      "Parameter k was not provided, will use k = sqrt(number_of_cells)\n",
      "\n"
     ]
    },
    {
     "name": "stdout",
     "output_type": "stream",
     "text": [
      "[1] \"Runtime for newdata:\"\n",
      "[1] \"4\"\n",
      "Time difference of 3.392008 secs\n"
     ]
    },
    {
     "name": "stderr",
     "output_type": "stream",
     "text": [
      "Parameter M was not provided, will use M = n_features / 10 (if n_features <= 1000), where n_features is the number of selected features, and M = 100 otherwise.\n",
      "\n",
      "Parameter k was not provided, will use k = sqrt(number_of_cells)\n",
      "\n"
     ]
    },
    {
     "name": "stdout",
     "output_type": "stream",
     "text": [
      "[1] \"Runtime for newdata:\"\n",
      "[1] \"5\"\n",
      "Time difference of 3.354692 secs\n"
     ]
    }
   ],
   "source": [
    "# Load more and more incomplete atlases\n",
    "nat <- c('17', '16', '15', '14')\n",
    "repns <- c('1', '2', '3', '4', '5')\n",
    "\n",
    "for (na in nat) {\n",
    "print(na)\n",
    "    \n",
    "# NOTE: sce has cells as columns\n",
    "fn_atlas <- paste('../data/for_scmap/TBS_kidney_atlas_subsample_20_counts_na_', na, '.tsv', sep = \"\")\n",
    "cols <- c('character', rep('double', 19860))\n",
    "counts_atlas <- t(read.table(file = fn_atlas, sep = '\\t', header = TRUE,  colClasses = cols,  row.names = \"X\"))\n",
    "\n",
    "fn_meta_atlas = paste('../data/for_scmap/TBS_kidney_atlas_subsample_20_metadata_na_', na, '.tsv', sep = \"\")\n",
    "meta_atlas <- read.table(file = fn_meta_atlas, sep = '\\t', header = TRUE, row.names='X')\n",
    "\n",
    "atlas <- SingleCellExperiment(assays = list(normcounts = as.matrix(counts_atlas)), colData = meta_atlas)\n",
    "\n",
    "start_time <- Sys.time()\n",
    "\n",
    "# this is needed to calculate dropout rate for feature selection\n",
    "# important: normcounts have the same zeros as raw counts (fpkm)\n",
    "counts(atlas) <- normcounts(atlas)\n",
    "logcounts(atlas) <- log2(normcounts(atlas) + 1)\n",
    "\n",
    "# use gene names as feature symbols\n",
    "rowData(atlas)$feature_symbol <- rownames(atlas)\n",
    "\n",
    "# remove features with duplicated names\n",
    "atlas <- atlas[!duplicated(rownames(atlas)), ]\n",
    "atlas <- selectFeatures(atlas)\n",
    "\n",
    "atlas <- indexCell(atlas)\n",
    "\n",
    "end_time <- Sys.time()\n",
    "print('Runtime atlas:')\n",
    "print(end_time - start_time)\n",
    "\n",
    "for (repn in repns) {\n",
    "\n",
    "# NOTE: sce has cells as columns\n",
    "fn_newdata <- paste('../data/for_scmap/TBS_kidney_newdata_subsample_100_counts_rep_', repn, '.tsv', sep = \"\")\n",
    "cols <- c('character', rep('double', 19860))\n",
    "counts_newdata <- t(read.table(file = fn_newdata, sep = '\\t', header = TRUE, colClasses = cols,  row.names = \"index\"))\n",
    "\n",
    "\n",
    "fn_meta_newdata = paste('../data/for_scmap/TBS_kidney_newdata_subsample_100_metadata_rep_', repn, '.tsv', sep = \"\")\n",
    "meta_newdata <- read.table(file = fn_meta_newdata, sep = '\\t', header = TRUE, row.names = 'index')\n",
    "\n",
    "newdata <- SingleCellExperiment(assays = list(normcounts = as.matrix(counts_newdata)), colData = meta_newdata)\n",
    "\n",
    "start_time <- Sys.time()\n",
    "    \n",
    "# this is needed to calculate dropout rate for feature selection\n",
    "# important: normcounts have the same zeros as raw counts (fpkm)\n",
    "counts(newdata) <- normcounts(newdata)\n",
    "logcounts(newdata) <- log2(normcounts(newdata) + 1)\n",
    "\n",
    "# use gene names as feature symbols\n",
    "rowData(newdata)$feature_symbol <- rownames(newdata)\n",
    "\n",
    "# remove features with duplicated names\n",
    "newdata <- newdata[!duplicated(rownames(newdata)), ]\n",
    "newdata <- selectFeatures(newdata)\n",
    "\n",
    "newdata <- indexCell(newdata)\n",
    "\n",
    "##############################################\n",
    "# run scmapCell to map the cells back to atlas\n",
    "##############################################\n",
    "res <- scmapCell(\n",
    "  projection = newdata,\n",
    "  index_list = list(\n",
    "    atlas = metadata(atlas)$scmap_cell_index\n",
    "  ),\n",
    "  w = 9\n",
    ")\n",
    "##############################################\n",
    "    \n",
    "end_time <- Sys.time()\n",
    "    \n",
    "print('Runtime for newdata:')\n",
    "print(repn)\n",
    "print(end_time - start_time)\n",
    "\n",
    "neighbors <- res[[1]]$cells\n",
    "\n",
    "# Exctract TSV and do the rest in Python...\n",
    "fn_res <- paste('../data/for_scmap/TBS_kidney_newdata_subsample_100_metadata_rep_', repn, '_na_', na, '_output.tsv', sep=\"\")\n",
    "write.table(neighbors, file = fn_res, quote=FALSE, sep='\\t')\n",
    "    \n",
    "}\n",
    "\n",
    "}"
   ]
  },
  {
   "cell_type": "code",
   "execution_count": null,
   "metadata": {},
   "outputs": [],
   "source": []
  }
 ],
 "metadata": {
  "kernelspec": {
   "display_name": "R",
   "language": "R",
   "name": "ir"
  },
  "language_info": {
   "codemirror_mode": "r",
   "file_extension": ".r",
   "mimetype": "text/x-r-source",
   "name": "R",
   "pygments_lexer": "r",
   "version": "4.0.0"
  }
 },
 "nbformat": 4,
 "nbformat_minor": 2
}
