{
 "cells": [
  {
   "cell_type": "code",
   "execution_count": 10,
   "metadata": {},
   "outputs": [],
   "source": [
    "# Author: Fabio Zanini\n",
    "# Date: 2020-05-27\n",
    "# Description: learn to load tsv files into SCE\n",
    "# Ah, namespace pollution starts immediately\n",
    "library(SingleCellExperiment)"
   ]
  },
  {
   "cell_type": "code",
   "execution_count": 34,
   "metadata": {},
   "outputs": [],
   "source": [
    "fn_atlas <- '../data/for_scmap/TBS_kidney_atlas_subsample_20_counts.tsv'\n",
    "cols <- c('character', rep('double', 19860))\n",
    "counts <- read.table(file = fn_atlas, sep = '\\t', header = TRUE,  colClasses = cols,  row.names=\"index\")\n",
    "# sce has the singlet convention: cells are columns\n",
    "counts = t(counts)\n",
    "\n",
    "\n",
    "fn_meta = '../data/for_scmap/TBS_kidney_atlas_subsample_20_metadata.tsv'\n",
    "meta <- read.table(file = fn_meta, sep = '\\t', header = TRUE, row.names='index')"
   ]
  },
  {
   "cell_type": "code",
   "execution_count": 37,
   "metadata": {},
   "outputs": [],
   "source": [
    "# This is the example\n",
    "#sce <- SingleCellExperiment(assays = list(normcounts = as.matrix(yan)), colData = ann)\n",
    "\n",
    "sce <- SingleCellExperiment(assays = list(normcounts = as.matrix(counts)), colData = meta)"
   ]
  },
  {
   "cell_type": "code",
   "execution_count": 38,
   "metadata": {},
   "outputs": [
    {
     "data": {
      "text/plain": [
       "class: SingleCellExperiment \n",
       "dim: 19860 360 \n",
       "metadata(0):\n",
       "assays(1): normcounts\n",
       "rownames(19860): Xkr4 Rp1 ... Sly Erdr1\n",
       "rowData names(0):\n",
       "colnames(360): AAGGTTCAGCGTGAAC-1-78-0-0 ACGCAGCTCAGTTGAC-1-78-0-0 ...\n",
       "  10X_P4_6_GTTACAGTCCCTCTTT-1 10X_P7_5_GGACAAGAGTGGAGAA-1\n",
       "colData names(1): CellType\n",
       "reducedDimNames(0):\n",
       "altExpNames(0):"
      ]
     },
     "metadata": {},
     "output_type": "display_data"
    }
   ],
   "source": [
    "sce"
   ]
  },
  {
   "cell_type": "code",
   "execution_count": 9,
   "metadata": {},
   "outputs": [
    {
     "data": {
      "text/plain": [
       "DataFrame with 360 rows and 2 columns\n",
       "                          index    CellType\n",
       "                    <character> <character>\n",
       "1     AAGGTTCAGCGTGAAC-1-78-0-0      B cell\n",
       "2     ACGCAGCTCAGTTGAC-1-78-0-0      B cell\n",
       "3     AGAGCTTCACAAGACG-1-78-0-0      B cell\n",
       "4     CAAGATCCAACAACCT-1-78-0-0      B cell\n",
       "5     CGCGTTTCAGCGTCCA-1-78-0-0      B cell\n",
       "...                         ...         ...\n",
       "356   TGGGCGTCACCAGTTA-1-52-1-0    podocyte\n",
       "357 10X_P4_5_TTTCCTCCAGTACACT-1    podocyte\n",
       "358 10X_P4_6_CCCTCCTCAATGGAAT-1    podocyte\n",
       "359 10X_P4_6_GTTACAGTCCCTCTTT-1    podocyte\n",
       "360 10X_P7_5_GGACAAGAGTGGAGAA-1    podocyte"
      ]
     },
     "metadata": {},
     "output_type": "display_data"
    }
   ],
   "source": [
    "colData(sce)"
   ]
  },
  {
   "cell_type": "code",
   "execution_count": null,
   "metadata": {},
   "outputs": [],
   "source": []
  }
 ],
 "metadata": {
  "kernelspec": {
   "display_name": "R",
   "language": "R",
   "name": "ir"
  },
  "language_info": {
   "codemirror_mode": "r",
   "file_extension": ".r",
   "mimetype": "text/x-r-source",
   "name": "R",
   "pygments_lexer": "r",
   "version": "4.0.0"
  }
 },
 "nbformat": 4,
 "nbformat_minor": 2
}
